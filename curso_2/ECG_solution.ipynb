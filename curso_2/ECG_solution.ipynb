{
 "cells": [
  {
   "cell_type": "markdown",
   "id": "0",
   "metadata": {
    "vscode": {
     "languageId": "plaintext"
    }
   },
   "source": [
    "# Actividad Pr\u00e1ctica: Analsisis de Se\u00f1ales de Electrocardiograma (ECG)\n",
    "\n",
    "\n",
    "### Objetivo General\n",
    "El prop\u00f3sito de este curso es introducir al estudiante en t\u00e9cnicas de an\u00e1lisis exploratorio y visualizaci\u00f3n interactiva de datos fisiol\u00f3gicos, enfoc\u00e1ndose en curvas electrocardiogr\u00e1ficas (ECG). Se abordar\u00e1n t\u00e9cnicas esenciales para la limpieza, manipulaci\u00f3n y visualizaci\u00f3n de datos con el fin de obtener m\u00e9tricas cl\u00ednicas \u00fatiles como frecuencia card\u00edaca, variabilidad entre latidos (RR) y desarrollar interfaces que faciliten su uso cl\u00ednico.\n",
    "\n",
    "### Al finalizar este curso, el estudiante estar\u00e1 en capacidad de:\n",
    "\n",
    "- Leer y limpiar se\u00f1ales electrocardiogr\u00e1ficas (ECG), identificando artefactos y eliminando segmentos no informativos.\n",
    "- Identificar metadatos relevantes de registros de se\u00f1ales: frecuencia de muestreo, cantidad de canales y unidades.\n",
    "- Calcular m\u00e9tricas clave como frecuencia card\u00edaca y duraci\u00f3n de intervalos RR.\n",
    "- Extraer y segmentar latidos individuales o fragmentos espec\u00edficos del ECG.\n",
    "- Visualizar datos en forma gr\u00e1fica, incluyendo:\n",
    "  - Promedios de latidos card\u00edacos,\n",
    "  - Curvas de error/desviaci\u00f3n,\n",
    "  - Cambios a lo largo del tiempo.\n",
    "- Implementar dashboards interactivos para monitoreo en tiempo real con m\u00e9tricas clave.\n",
    "- Integrar sliders y controles gr\u00e1ficos para explorar din\u00e1micamente la se\u00f1al ECG en diferentes ventanas de tiempo.\n",
    "- Dise\u00f1ar sistemas b\u00e1sicos de alerta para entornos cl\u00ednicos que utilicen la informaci\u00f3n visualizada en tiempo real.\n",
    "\n",
    "\n",
    "\n"
   ]
  },
  {
   "cell_type": "markdown",
   "id": "1",
   "metadata": {},
   "source": [
    "## 1. Base de datos de ECG\n",
    "\n",
    "Al igual que en curso 1 de este programa, se utilizar\u00e1 la base de datos de ECG de PhysioNet, que contiene registros de ECG de pacientes con arritmias y otros trastornos card\u00edacos.\n",
    "\n",
    "\n",
    "#### MIT-BIH Arrhythmia Database\n"
   ]
  },
  {
   "cell_type": "markdown",
   "id": "2",
   "metadata": {},
   "source": [
    "![](/Users/carlos/Documents/github/Diplomado_iHealth/img/mitbih.png)"
   ]
  },
  {
   "cell_type": "markdown",
   "id": "3",
   "metadata": {},
   "source": [
    "\n",
    "Link a la base de datos: https://www.physionet.org/content/mitdb/1.0.0/\n",
    "Esta cuenta con 48 registros de ECG de 30 minutos de duraci\u00f3n, con una frecuencia de muestreo de **360 Hz** y **2 canales**. Los registros est\u00e1n muestreados a 11 bits con un rango de 10 mV y un filtro pasa banda de 0.1-100 Hz. Los registros est\u00e1n etiquetados por dos cardi\u00f3logos expertos.\n",
    "\n",
    "Cada grabaci\u00f3n cuenta con 4 archivos:\n",
    "- `.xms`: configuraci\u00f3n para visualizar el registro en el navegador.\n",
    "- `.atr`: contiene las anotaciones (en terminos de muestras) de las ondas R de cada latido.\n",
    "- `.hea`: contiene informaci\u00f3n sobre el registro, como la frecuencia de muestreo, el n\u00famero de canales, la duraci\u00f3n del registro, etc.\n",
    "- `.dat`: contiene las se\u00f1ales de ECG.\n",
    "\n",
    "> **NOTA**\n",
    "> Los formatos de datos de ECG y otras se\u00f1ales fisiologicas son variados. Ejemplos de formatos de datos de ECG son: `.dat`, `.csv`, `.txt`, `.mat`, `.edf`, etc. Es importante conocer el formato de los datos para poder leerlos y trabajar con ellos con las herramientas adecuadas.\n",
    "\n",
    "En este ejercicio solo se utilizara un registro de ECG para simplificar el an\u00e1lisis.\n",
    "\n",
    "## Librer\u00edas necesarias\n",
    "\n",
    "En esta actividad se utilizar\u00e1n las siguientes librer\u00edas de Python:\n",
    "\n",
    "- `wfdb`, para la lectura y manejo de se\u00f1ales ECG provenientes de bases de datos fisiol\u00f3gicas como MIT-BIH.\n",
    "- `numpy`, para la manipulaci\u00f3n y an\u00e1lisis num\u00e9rico de los datos.\n",
    "- `matplotlib`, para la visualizaci\u00f3n gr\u00e1fica de las se\u00f1ales.\n",
    "- `os`, para operaciones relacionadas con el sistema de archivos y la gesti\u00f3n de directorios.\n",
    "- `scipy`, para el procesamiento de se\u00f1ales.\n",
    "\n"
   ]
  },
  {
   "cell_type": "code",
   "execution_count": null,
   "id": "4",
   "metadata": {},
   "outputs": [],
   "source": [
    "# Instalando Librerias\n",
    "!pip install wfdb\n"
   ]
  },
  {
   "cell_type": "code",
   "execution_count": null,
   "id": "5",
   "metadata": {},
   "outputs": [],
   "source": [
    "# cargando librerias\n",
    "import wfdb\n",
    "import numpy as np\n",
    "import matplotlib.pyplot as plt\n",
    "import os\n",
    "from scipy.signal import find_peaks"
   ]
  },
  {
   "cell_type": "markdown",
   "id": "6",
   "metadata": {},
   "source": [
    "## 2. Lectura de datos\n",
    "\n",
    "#### **Ejercicio 1** \n",
    "\n",
    "Utilizando la librer\u00eda `wfdb`, lee el registro de ECG `105` de la base de datos MIT-BIH. Identifica que la frequencia de muestro es de 360 Hz, que el registro tiene 2 canales y que la duraci\u00f3n del registro es de 30 minutos. Imprime esta informaci\u00f3n en pantalla. Se deben crear las variables `ecg`, `fs`, `duration`, `n_channels` para almacenar la se\u00f1al de ECG, la frecuencia de muestreo, duraci\u00f3n y el n\u00famero de canales, respectivamente. HINT: utiliza la funci\u00f3n `wfdb.dl_database` para descargar el registro y `wfdb.rdsamp` para leerlo.\n",
    "\n"
   ]
  },
  {
   "cell_type": "code",
   "execution_count": null,
   "id": "7",
   "metadata": {},
   "outputs": [],
   "source": [
    "# <CODE>\n",
    "# Descargando registro\n",
    "wfdb.dl_database('mitdb', 'mitdb', records=['105'])\n",
    "\n",
    "# Cargar el registro\n",
    "ecg, fields = wfdb.rdsamp('mitdb/105')\n",
    "\n",
    "print(fields)\n",
    "# crear variables\n",
    "fs = fields['fs']  # frecuencia de muestreo\n",
    "duration = fields['sig_len'] / fs  # duraci\u00f3n en segundos\n",
    "n_channels = fields['n_sig']  # n\u00famero de canales\n",
    "\n",
    "print(f\"Frecuencia de muestreo: {fs} Hz\")\n",
    "print(f\"Duraci\u00f3n del registro: {duration:.2f} segundos\")\n",
    "print(f\"N\u00famero de canales: {n_channels}\")\n",
    "\n",
    "\n",
    "\n",
    "\n"
   ]
  },
  {
   "cell_type": "markdown",
   "id": "8",
   "metadata": {},
   "source": [
    "#### **Ejercicio 2** \n",
    "\n",
    "Utilizando subplots crea un plot mostrando los primeros 60 segundos de cada canal del registro de ECG. Utiliza la funci\u00f3n `plt.subplots` para crear los subplots y `plt.plot` para graficar las se\u00f1ales. Aseg\u00farate de etiquetar los ejes y agregar un t\u00edtulo a cada subplot indicando el canal correspondiente.\n",
    "\n"
   ]
  },
  {
   "cell_type": "code",
   "execution_count": null,
   "id": "9",
   "metadata": {},
   "outputs": [],
   "source": [
    "# <CODE>\n",
    "\n",
    "tiempo = np.arange(0, duration, 1/fs)  # vector de tiempo\n",
    "\n",
    "# Graficar la se\u00f1al ECG\n",
    "fig, ax = plt.subplots(2,1, figsize=(12, 10))\n",
    "ax[0].plot(tiempo, ecg[:, 0], color='blue')\n",
    "ax[1].plot(tiempo, ecg[:, 1], color='blue')\n",
    "ax[0].set_xlim(0, 60)\n",
    "ax[1].set_xlim(0, 60)\n",
    "ax[0].set_title('Se\u00f1al ECG - Canal 1')\n",
    "ax[1].set_title('Se\u00f1al ECG - Canal 2')\n",
    "ax[0].set_xlabel('Tiempo (s)')\n",
    "ax[1].set_xlabel('Tiempo (s)')\n",
    "ax[0].set_ylabel('Amplitud')\n",
    "ax[1].set_ylabel('Amplitud')\n",
    "ax[0].grid()\n",
    "ax[1].grid()\n",
    "plt.show()\n",
    "\n",
    "\n"
   ]
  },
  {
   "cell_type": "markdown",
   "id": "10",
   "metadata": {},
   "source": [
    "#### **Ejercicio 3** \n",
    "\n",
    "En la grafica anterior se pueden observar algunos valores at\u00edpicos en la se\u00f1al de ECG. Por ejemplo en el canal 2, se observa que aproximadamente en los segundos 15, 21 y 35 hay valores que se alejan significativamente del rango normal de la se\u00f1al. Identifica los \u00edndices de estos valores at\u00edpicos en el canal 2 y almac\u00e9nalos en una variable llamada `outliers`. Elimina estos valores de la se\u00f1al de ECG y almacena la se\u00f1al limpia en una nueva variable llamada `ecg_clean`. Puedes considerar que todo lo que supere un treshold de 0.4mV en el canal 2 es un valor at\u00edpico\n"
   ]
  },
  {
   "cell_type": "code",
   "execution_count": null,
   "id": "11",
   "metadata": {},
   "outputs": [],
   "source": [
    "# Crear m\u00e1scara con np.where\n",
    "outliers = (ecg[:, 1] > 0.4)\n",
    "\n",
    "ecg_clean = ecg.copy()\n",
    "ecg_clean[outliers, :] = 0  # Establecer a cero los valores donde la m\u00e1scara es True\n",
    "\n",
    "# Graficar la se\u00f1al ECG despu\u00e9s de aplicar la m\u00e1scara\n",
    "fig, ax = plt.subplots(2,1, figsize=(12, 10))\n",
    "ax[0].plot(tiempo, ecg_clean[:, 0], color='blue')\n",
    "ax[1].plot(tiempo, ecg_clean[:, 1], color='blue')\n",
    "ax[0].set_xlim(0, 60)\n",
    "ax[1].set_xlim(0, 60)\n",
    "ax[0].set_title('Se\u00f1al ECG - Canal 1 (Despu\u00e9s de aplicar m\u00e1scara)')\n",
    "ax[1].set_title('Se\u00f1al ECG - Canal 2 (Despu\u00e9s de aplicar m\u00e1scara)')\n",
    "ax[0].set_xlabel('Tiempo (s)')\n",
    "ax[1].set_xlabel('Tiempo (s)')\n",
    "ax[0].set_ylabel('Amplitud')\n",
    "ax[1].set_ylabel('Amplitud')\n",
    "ax[0].grid()\n",
    "ax[1].grid()\n",
    "plt.show()\n",
    "\n",
    "\n",
    "\n"
   ]
  },
  {
   "cell_type": "markdown",
   "id": "12",
   "metadata": {},
   "source": [
    "## 3. Manipulaci\u00f3n de la se\u00f1al\n",
    "#### **Ejercicio 4** \n",
    "\n",
    "Para entender el comportamiento de la se\u00f1al de ECG, es importante calcular la frecuencia card\u00edaca. Para esto es necesario obtener los tiempos de los segmentos R de la se\u00f1al de ECG. Anteriormente desarrollamos una funci\u00f3n para detectar los picos de la se\u00f1al, sin embargo librerias como `scipy` cuentan con funciones que facilitan esta tarea. Utilizando la funci\u00f3n `find_peaks` de `scipy.signal`, identifica los picos de la se\u00f1al de ECG original y almacena los \u00edndices de estos picos en una variable llamada `r_peaks`. Utiliza el canal 1 para la detecci\u00f3n de picos y genera un plot destacando los peaks. Responde las siguientes preguntas:\n",
    "* \u00bfQue inputs son necesarios para la funci\u00f3n `find_peaks`?\n",
    "* \u00bfQue par\u00e1metros son necesarios para la detecci\u00f3n de picos en la se\u00f1al de ECG?\n",
    "* \u00bfEntre que rango de amplitudes se encuentran los picos de la se\u00f1al de ECG?"
   ]
  },
  {
   "cell_type": "code",
   "execution_count": null,
   "id": "13",
   "metadata": {},
   "outputs": [],
   "source": [
    "# <CODE>\n",
    "ecg_1 = ecg[:, 0]  # Usar solo el primer canal para el an\u00e1lisis\n",
    "r_peaks, props = find_peaks(ecg_1, height=0.9, distance=fs*0.1)\n",
    "\n",
    "\n",
    "fig, ax = plt.subplots(figsize=(12, 6))\n",
    "ax.plot(tiempo, ecg_1, color='blue')\n",
    "ax.plot(tiempo[r_peaks], ecg_1[r_peaks], 'ro', label='Picos detectados')\n",
    "ax.set_xlim(0, 60)\n",
    "ax.set_title('Detecci\u00f3n de Picos en la Se\u00f1al ECG')\n",
    "ax.set_xlabel('Tiempo (s)')\n",
    "ax.set_ylabel('Amplitud')\n",
    "ax.legend()\n",
    "\n",
    "\n",
    "print(\"Max amplitud :\", np.max(ecg_1[r_peaks]), \"mV\")\n",
    "print(\"Min amplitud:\", np.min(ecg_1[r_peaks]), \"mV\")\n",
    "print(\"Promedio amplitud:\", np.mean(ecg_1[r_peaks]), \"mV\")\n",
    "\n"
   ]
  },
  {
   "cell_type": "markdown",
   "id": "14",
   "metadata": {},
   "source": [
    "#### **Ejercicio 5** \n",
    "\n",
    "Deacuerdo al ejercicio anterior fue posible identificar la presencia de valores R-R atipicos en la se\u00f1al de ECG. Utilizando la variable `r_peaks` y la funci\u00f3n `np.diff`, calcula los intervalos R-R de la se\u00f1al de ECG. Almacena estos intervalos en una variable llamada `rr_intervals`. Utiliza la frecuencia de muestreo para convertir los intervalos R-R a segundos y almacena el resultado en una nueva variable llamada `rr_intervals_sec`. Responde las siguientes preguntas:\n",
    "* \u00bfQue unidades tiene la variable `rr_intervals_sec`?\n",
    "* \u00bfQue rango de valores tiene la variable `rr_intervals_sec`?\n",
    "* \u00bfExisten valores fuera del rango normal de la frecuencia card\u00edaca? (60-100 latidos por minuto)\n",
    "\n",
    "\n"
   ]
  },
  {
   "cell_type": "code",
   "execution_count": null,
   "id": "15",
   "metadata": {},
   "outputs": [],
   "source": [
    "# <CODE>\n",
    "\n",
    "rr_intervals_sec = np.diff(r_peaks) / fs  # calcular los intervalos RR en segundos\n",
    "\n",
    "print(\"Intervalos en segundos\")\n",
    "print(\"Max intervalo RR:\", np.max(rr_intervals_sec), \"segundos\")\n",
    "print(\"Min intervalo RR:\", np.min(rr_intervals_sec), \"segundos\")\n",
    "print(\"Promedio intervalo RR:\", np.mean(rr_intervals_sec), \"segundos\")\n",
    "print(\"\")\n",
    "\n",
    "# Conversi\u00f3n a latidos por minuto (BPM)\n",
    "rr_intervals_bpm = 60 / rr_intervals_sec  # convertir a BPM\n",
    "print(\"Intervalos en BPM\")\n",
    "print(\"Max BPM:\", np.max(rr_intervals_bpm))\n",
    "print(\"Min BPM:\", np.min(rr_intervals_bpm))\n",
    "print(\"Promedio BPM:\", np.mean(rr_intervals_bpm))\n",
    "\n"
   ]
  }
 ],
 "metadata": {
  "kernelspec": {
   "display_name": "diplomado",
   "language": "python",
   "name": "python3"
  },
  "language_info": {
   "codemirror_mode": {
    "name": "ipython",
    "version": 3
   },
   "file_extension": ".py",
   "mimetype": "text/x-python",
   "name": "python",
   "nbconvert_exporter": "python",
   "pygments_lexer": "ipython3",
   "version": "3.10.16"
  }
 },
 "nbformat": 4,
 "nbformat_minor": 5
}