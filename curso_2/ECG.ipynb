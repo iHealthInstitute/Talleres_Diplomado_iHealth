{
 "cells": [
  {
   "cell_type": "markdown",
   "id": "0",
   "metadata": {
    "vscode": {
     "languageId": "plaintext"
    }
   },
   "source": [
    "# Actividad Práctica: Analsisis de Señales de Electrocardiograma (ECG)\n",
    "\n",
    "\n",
    "### Objetivo General\n",
    "El propósito de este curso es introducir al estudiante en técnicas de análisis exploratorio y visualización interactiva de datos fisiológicos, enfocándose en curvas electrocardiográficas (ECG). Se abordarán técnicas esenciales para la limpieza, manipulación y visualización de datos con el fin de obtener métricas clínicas útiles como frecuencia cardíaca, variabilidad entre latidos (RR) y desarrollar interfaces que faciliten su uso clínico.\n",
    "\n",
    "### Al finalizar este curso, el estudiante estará en capacidad de:\n",
    "\n",
    "- Leer y limpiar señales electrocardiográficas (ECG), identificando artefactos y eliminando segmentos no informativos.\n",
    "- Identificar metadatos relevantes de registros de señales: frecuencia de muestreo, cantidad de canales y unidades.\n",
    "- Calcular métricas clave como frecuencia cardíaca y duración de intervalos RR.\n",
    "- Extraer y segmentar latidos individuales o fragmentos específicos del ECG.\n",
    "- Visualizar datos en forma gráfica, incluyendo:\n",
    "  - Promedios de latidos cardíacos,\n",
    "  - Curvas de error/desviación,\n",
    "  - Cambios a lo largo del tiempo.\n",
    "- Implementar dashboards interactivos para monitoreo en tiempo real con métricas clave.\n",
    "- Integrar sliders y controles gráficos para explorar dinámicamente la señal ECG en diferentes ventanas de tiempo.\n",
    "- Diseñar sistemas básicos de alerta para entornos clínicos que utilicen la información visualizada en tiempo real.\n",
    "\n",
    "\n",
    "\n"
   ]
  },
  {
   "cell_type": "markdown",
   "id": "1",
   "metadata": {},
   "source": [
    "## 1. Base de datos de ECG\n",
    "\n",
    "Al igual que en curso 1 de este programa, se utilizará la base de datos de ECG de PhysioNet, que contiene registros de ECG de pacientes con arritmias y otros trastornos cardíacos.\n",
    "\n",
    "\n",
    "#### MIT-BIH Arrhythmia Database\n"
   ]
  },
  {
   "cell_type": "markdown",
   "id": "2",
   "metadata": {},
   "source": [
    "![](/Users/carlos/Documents/github/Diplomado_iHealth/img/mitbih.png)"
   ]
  },
  {
   "cell_type": "markdown",
   "id": "3",
   "metadata": {},
   "source": [
    "\n",
    "Link a la base de datos: https://www.physionet.org/content/mitdb/1.0.0/\n",
    "Esta cuenta con 48 registros de ECG de 30 minutos de duración, con una frecuencia de muestreo de **360 Hz** y **2 canales**. Los registros están muestreados a 11 bits con un rango de 10 mV y un filtro pasa banda de 0.1-100 Hz. Los registros están etiquetados por dos cardiólogos expertos.\n",
    "\n",
    "Cada grabación cuenta con 4 archivos:\n",
    "- `.xms`: configuración para visualizar el registro en el navegador.\n",
    "- `.atr`: contiene las anotaciones (en terminos de muestras) de las ondas R de cada latido.\n",
    "- `.hea`: contiene información sobre el registro, como la frecuencia de muestreo, el número de canales, la duración del registro, etc.\n",
    "- `.dat`: contiene las señales de ECG.\n",
    "\n",
    "> **NOTA**\n",
    "> Los formatos de datos de ECG y otras señales fisiologicas son variados. Ejemplos de formatos de datos de ECG son: `.dat`, `.csv`, `.txt`, `.mat`, `.edf`, etc. Es importante conocer el formato de los datos para poder leerlos y trabajar con ellos con las herramientas adecuadas.\n",
    "\n",
    "En este ejercicio solo se utilizara un registro de ECG para simplificar el análisis.\n",
    "\n",
    "## Librerías necesarias\n",
    "\n",
    "En esta actividad se utilizarán las siguientes librerías de Python:\n",
    "\n",
    "- `wfdb`, para la lectura y manejo de señales ECG provenientes de bases de datos fisiológicas como MIT-BIH.\n",
    "- `numpy`, para la manipulación y análisis numérico de los datos.\n",
    "- `matplotlib`, para la visualización gráfica de las señales.\n",
    "- `os`, para operaciones relacionadas con el sistema de archivos y la gestión de directorios.\n",
    "- `scipy`, para el procesamiento de señales.\n",
    "\n"
   ]
  },
  {
   "cell_type": "code",
   "execution_count": null,
   "id": "4",
   "metadata": {},
   "outputs": [],
   "source": [
    "# Instalando Librerias\n",
    "!pip install wfdb\n"
   ]
  },
  {
   "cell_type": "code",
   "execution_count": null,
   "id": "5",
   "metadata": {},
   "outputs": [],
   "source": [
    "# cargando librerias\n",
    "import wfdb\n",
    "import numpy as np\n",
    "import matplotlib.pyplot as plt\n",
    "import os\n",
    "from scipy.signal import find_peaks"
   ]
  },
  {
   "cell_type": "markdown",
   "id": "6",
   "metadata": {},
   "source": [
    "## 2. Lectura de datos\n",
    "\n",
    "#### **Ejercicio 1** \n",
    "\n",
    "Utilizando la librería `wfdb`, lee el registro de ECG `105` de la base de datos MIT-BIH. Identifica que la frequencia de muestro es de 360 Hz, que el registro tiene 2 canales y que la duración del registro es de 30 minutos. Imprime esta información en pantalla. Se deben crear las variables `ecg`, `fs`, `duration`, `n_channels` para almacenar la señal de ECG, la frecuencia de muestreo, duración y el número de canales, respectivamente. HINT: utiliza la función `wfdb.dl_database` para descargar el registro y `wfdb.rdsamp` para leerlo.\n",
    "\n"
   ]
  },
  {
   "cell_type": "code",
   "execution_count": null,
   "id": "7",
   "metadata": {},
   "outputs": [],
   "source": [
    "# <CODE>\n"
   ]
  },
  {
   "cell_type": "markdown",
   "id": "8",
   "metadata": {},
   "source": [
    "#### **Ejercicio 2** \n",
    "\n",
    "Utilizando subplots crea un plot mostrando los primeros 60 segundos de cada canal del registro de ECG. Utiliza la función `plt.subplots` para crear los subplots y `plt.plot` para graficar las señales. Asegúrate de etiquetar los ejes y agregar un título a cada subplot indicando el canal correspondiente.\n",
    "\n"
   ]
  },
  {
   "cell_type": "code",
   "execution_count": null,
   "id": "9",
   "metadata": {},
   "outputs": [],
   "source": [
    "# <CODE>\n"
   ]
  },
  {
   "cell_type": "markdown",
   "id": "10",
   "metadata": {},
   "source": [
    "#### **Ejercicio 3** \n",
    "\n",
    "En la grafica anterior se pueden observar algunos valores atípicos en la señal de ECG. Por ejemplo en el canal 2, se observa que aproximadamente en los segundos 15, 21 y 35 hay valores que se alejan significativamente del rango normal de la señal. Identifica los índices de estos valores atípicos en el canal 2 y almacénalos en una variable llamada `outliers`. Elimina estos valores de la señal de ECG y almacena la señal limpia en una nueva variable llamada `ecg_clean`. Puedes considerar que todo lo que supere un treshold de 0.4mV en el canal 2 es un valor atípico\n"
   ]
  },
  {
   "cell_type": "code",
   "execution_count": null,
   "id": "11",
   "metadata": {},
   "outputs": [],
   "source": [
    "# Crear máscara con np.where\n",
    "outliers = (ecg[:, 1] > 0.4)\n",
    "\n",
    "ecg_clean = ecg.copy()\n",
    "ecg_clean[outliers, :] = 0  # Establecer a cero los valores donde la máscara es True\n",
    "\n",
    "# Graficar la señal ECG después de aplicar la máscara\n",
    "fig, ax = plt.subplots(2,1, figsize=(12, 10))\n",
    "ax[0].plot(tiempo, ecg_clean[:, 0], color='blue')\n",
    "ax[1].plot(tiempo, ecg_clean[:, 1], color='blue')\n",
    "ax[0].set_xlim(0, 60)\n",
    "ax[1].set_xlim(0, 60)\n",
    "ax[0].set_title('Señal ECG - Canal 1 (Después de aplicar máscara)')\n",
    "ax[1].set_title('Señal ECG - Canal 2 (Después de aplicar máscara)')\n",
    "ax[0].set_xlabel('Tiempo (s)')\n",
    "ax[1].set_xlabel('Tiempo (s)')\n",
    "ax[0].set_ylabel('Amplitud')\n",
    "ax[1].set_ylabel('Amplitud')\n",
    "ax[0].grid()\n",
    "ax[1].grid()\n",
    "plt.show()\n",
    "\n",
    "\n",
    "\n"
   ]
  },
  {
   "cell_type": "markdown",
   "id": "12",
   "metadata": {},
   "source": [
    "## 3. Manipulación de la señal\n",
    "#### **Ejercicio 4** \n",
    "\n",
    "Para entender el comportamiento de la señal de ECG, es importante calcular la frecuencia cardíaca. Para esto es necesario obtener los tiempos de los segmentos R de la señal de ECG. Anteriormente desarrollamos una función para detectar los picos de la señal, sin embargo librerias como `scipy` cuentan con funciones que facilitan esta tarea. Utilizando la función `find_peaks` de `scipy.signal`, identifica los picos de la señal de ECG original y almacena los índices de estos picos en una variable llamada `r_peaks`. Utiliza el canal 1 para la detección de picos y genera un plot destacando los peaks. Responde las siguientes preguntas:\n",
    "* ¿Que inputs son necesarios para la función `find_peaks`?\n",
    "* ¿Que parámetros son necesarios para la detección de picos en la señal de ECG?\n",
    "* ¿Entre que rango de amplitudes se encuentran los picos de la señal de ECG?"
   ]
  },
  {
   "cell_type": "code",
   "execution_count": null,
   "id": "13",
   "metadata": {},
   "outputs": [],
   "source": [
    "# <CODE>\n"
   ]
  },
  {
   "cell_type": "markdown",
   "id": "14",
   "metadata": {},
   "source": [
    "#### **Ejercicio 5** \n",
    "\n",
    "Deacuerdo al ejercicio anterior fue posible identificar la presencia de valores R-R atipicos en la señal de ECG. Utilizando la variable `r_peaks` y la función `np.diff`, calcula los intervalos R-R de la señal de ECG. Almacena estos intervalos en una variable llamada `rr_intervals`. Utiliza la frecuencia de muestreo para convertir los intervalos R-R a segundos y almacena el resultado en una nueva variable llamada `rr_intervals_sec`. Responde las siguientes preguntas:\n",
    "* ¿Que unidades tiene la variable `rr_intervals_sec`?\n",
    "* ¿Que rango de valores tiene la variable `rr_intervals_sec`?\n",
    "* ¿Existen valores fuera del rango normal de la frecuencia cardíaca? (60-100 latidos por minuto)\n",
    "\n",
    "\n"
   ]
  },
  {
   "cell_type": "code",
   "execution_count": null,
   "id": "15",
   "metadata": {},
   "outputs": [],
   "source": [
    "# <CODE>\n"
   ]
  }
 ],
 "metadata": {
  "kernelspec": {
   "display_name": "diplomado",
   "language": "python",
   "name": "python3"
  },
  "language_info": {
   "codemirror_mode": {
    "name": "ipython",
    "version": 3
   },
   "file_extension": ".py",
   "mimetype": "text/x-python",
   "name": "python",
   "nbconvert_exporter": "python",
   "pygments_lexer": "ipython3",
   "version": "3.10.16"
  }
 },
 "nbformat": 4,
 "nbformat_minor": 5
}
